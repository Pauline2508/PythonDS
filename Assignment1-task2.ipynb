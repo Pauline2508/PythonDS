{
 "cells": [
  {
   "cell_type": "code",
   "execution_count": 1,
   "id": "f46cd494",
   "metadata": {},
   "outputs": [],
   "source": [
    "import pandas as pd"
   ]
  },
  {
   "cell_type": "code",
   "execution_count": 2,
   "id": "091f0c81",
   "metadata": {},
   "outputs": [
    {
     "name": "stdout",
     "output_type": "stream",
     "text": [
      "a    10\n",
      "b    20\n",
      "c    30\n",
      "d    40\n",
      "e    50\n",
      "dtype: int64\n"
     ]
    }
   ],
   "source": [
    "d_dict = {\n",
    "    'a': 10,\n",
    "    'b': 20, \n",
    "    'c': 30, \n",
    "    'd': 40, \n",
    "    'e': 50\n",
    "}\n",
    "series = pd.Series(d_dict)\n",
    "print(series)"
   ]
  },
  {
   "cell_type": "code",
   "execution_count": 4,
   "id": "d6e45659",
   "metadata": {},
   "outputs": [
    {
     "name": "stdout",
     "output_type": "stream",
     "text": [
      "0    10\n",
      "1    20\n",
      "2    30\n",
      "3    40\n",
      "4    50\n",
      "dtype: int64\n"
     ]
    }
   ],
   "source": [
    "d_list = [10, 20, 30, 40, 50]\n",
    "series1 = pd.Series(d_list)\n",
    "print(series1)"
   ]
  },
  {
   "cell_type": "code",
   "execution_count": 5,
   "id": "ee933bcf",
   "metadata": {},
   "outputs": [
    {
     "name": "stdout",
     "output_type": "stream",
     "text": [
      "      Name  Age Country\n",
      "0    Alice   25     USA\n",
      "1      Bob   30  Canada\n",
      "2  Charlie   28      UK\n"
     ]
    }
   ],
   "source": [
    "data_dict = {\n",
    "    'Name': ['Alice', 'Bob', 'Charlie'],\n",
    "    'Age': [25, 30, 28],\n",
    "    'Country': ['USA', 'Canada', 'UK']\n",
    "}\n",
    "\n",
    "df = pd.DataFrame(data_dict)\n",
    "print(df)"
   ]
  },
  {
   "cell_type": "code",
   "execution_count": 6,
   "id": "facf8133",
   "metadata": {},
   "outputs": [
    {
     "name": "stdout",
     "output_type": "stream",
     "text": [
      "0      Alice\n",
      "1        Bob\n",
      "2    Charlie\n",
      "Name: Name, dtype: object\n"
     ]
    }
   ],
   "source": [
    "name_column = df['Name']\n",
    "print(name_column)"
   ]
  },
  {
   "cell_type": "code",
   "execution_count": 9,
   "id": "8ff874aa",
   "metadata": {},
   "outputs": [
    {
     "name": "stdout",
     "output_type": "stream",
     "text": [
      "Name       Alice\n",
      "Age           25\n",
      "Country      USA\n",
      "Name: 0, dtype: object\n"
     ]
    }
   ],
   "source": [
    "row_1 = df.loc[0]\n",
    "print(row_1)"
   ]
  },
  {
   "cell_type": "code",
   "execution_count": 10,
   "id": "4e1894c1",
   "metadata": {},
   "outputs": [
    {
     "name": "stdout",
     "output_type": "stream",
     "text": [
      "      Name  Age Country\n",
      "1      Bob   30  Canada\n",
      "2  Charlie   28      UK\n"
     ]
    }
   ],
   "source": [
    "rows_slice = df.loc[1:2] \n",
    "print(rows_slice)"
   ]
  },
  {
   "cell_type": "code",
   "execution_count": 11,
   "id": "8c17a034",
   "metadata": {},
   "outputs": [
    {
     "name": "stdout",
     "output_type": "stream",
     "text": [
      "  Name  Age Country\n",
      "1  Bob   30  Canada\n"
     ]
    }
   ],
   "source": [
    "age_filter = df[df['Age'] > 28]\n",
    "print(age_filter)"
   ]
  },
  {
   "cell_type": "code",
   "execution_count": 13,
   "id": "d9c026cd",
   "metadata": {},
   "outputs": [
    {
     "name": "stdout",
     "output_type": "stream",
     "text": [
      "  Name Country  Age\n",
      "1  Bob  Canada   30\n"
     ]
    }
   ],
   "source": [
    "filtered_data = df[df['Age'] > 28][['Name', 'Country', 'Age']]\n",
    "print(filtered_data)"
   ]
  },
  {
   "cell_type": "code",
   "execution_count": 15,
   "id": "93a89b0e",
   "metadata": {},
   "outputs": [
    {
     "name": "stdout",
     "output_type": "stream",
     "text": [
      "    Name  Age Country\n",
      "0  Alice   25     USA\n",
      "1    Bob   30  Canada\n"
     ]
    }
   ],
   "source": [
    "countries_filter = df[df['Country'].isin(['USA', 'Canada'])]\n",
    "print(countries_filter)"
   ]
  },
  {
   "cell_type": "code",
   "execution_count": 16,
   "id": "8633f6da",
   "metadata": {},
   "outputs": [
    {
     "name": "stdout",
     "output_type": "stream",
     "text": [
      "a    10\n",
      "b    20\n",
      "c    35\n",
      "d    40\n",
      "e    50\n",
      "dtype: int64\n"
     ]
    }
   ],
   "source": [
    "series[2] = 35  \n",
    "print(series)"
   ]
  },
  {
   "cell_type": "code",
   "execution_count": 17,
   "id": "b6e5a163",
   "metadata": {},
   "outputs": [
    {
     "name": "stdout",
     "output_type": "stream",
     "text": [
      "      Name  Age Country\n",
      "0    Alice   25     USA\n",
      "1      Bob   31  Canada\n",
      "2  Charlie   28      UK\n"
     ]
    }
   ],
   "source": [
    "df.at[1, 'Age'] = 31  \n",
    "print(df)"
   ]
  },
  {
   "cell_type": "code",
   "execution_count": 18,
   "id": "691baa01",
   "metadata": {},
   "outputs": [
    {
     "name": "stdout",
     "output_type": "stream",
     "text": [
      "      Name  Age Country\n",
      "0    Alice   26     USA\n",
      "1      Bob   32  Canada\n",
      "2  Charlie   29      UK\n"
     ]
    }
   ],
   "source": [
    "df['Age'] = df['Age'] + 1 \n",
    "print(df)"
   ]
  },
  {
   "cell_type": "code",
   "execution_count": 23,
   "id": "f710fa30",
   "metadata": {},
   "outputs": [
    {
     "name": "stdout",
     "output_type": "stream",
     "text": [
      "      Name  Age Country  Salary\n",
      "0    Alice   26     USA   50000\n",
      "1      Bob   32   Other   60000\n",
      "2  Charlie   29   Other   55000\n"
     ]
    }
   ],
   "source": [
    "df.loc[df['Age'] > 28, 'Country'] = 'Other'\n",
    "\n",
    "df['Salary'] = [50000, 60000, 55000]\n",
    "print(df)"
   ]
  },
  {
   "cell_type": "code",
   "execution_count": 25,
   "id": "a71dbcb1",
   "metadata": {},
   "outputs": [
    {
     "name": "stdout",
     "output_type": "stream",
     "text": [
      "   A   B\n",
      "0  1   4\n",
      "1  2   5\n",
      "2  3   6\n",
      "3  7  10\n",
      "4  8  11\n",
      "5  9  12\n"
     ]
    }
   ],
   "source": [
    "df1 = pd.DataFrame({'A': [1, 2, 3], 'B': [4, 5, 6]})\n",
    "df2 = pd.DataFrame({'A': [7, 8, 9], 'B': [10, 11, 12]})\n",
    "\n",
    "result = pd.concat([df1, df2]) \n",
    "print(result)"
   ]
  },
  {
   "cell_type": "code",
   "execution_count": 27,
   "id": "b6046bbb",
   "metadata": {},
   "outputs": [
    {
     "name": "stdout",
     "output_type": "stream",
     "text": [
      "   ID     Name  Age\n",
      "0   2      Bob   25\n",
      "1   3  Charlie   30\n"
     ]
    }
   ],
   "source": [
    "df1 = pd.DataFrame({'ID': [1, 2, 3], 'Name': ['Alice', 'Bob', 'Charlie']})\n",
    "df2 = pd.DataFrame({'ID': [2, 3, 4], 'Age': [25, 30, 28]})\n",
    "\n",
    "merged_df = pd.merge(df1, df2, on='ID') \n",
    "print(merged_df)"
   ]
  },
  {
   "cell_type": "code",
   "execution_count": 28,
   "id": "78b414d7",
   "metadata": {},
   "outputs": [
    {
     "name": "stdout",
     "output_type": "stream",
     "text": [
      "          Value\n",
      "Category       \n",
      "A            90\n",
      "B            60\n"
     ]
    }
   ],
   "source": [
    "data = {\n",
    "    'Category': ['A', 'B', 'A', 'B', 'A'],\n",
    "    'Value': [10, 20, 30, 40, 50]\n",
    "}\n",
    "\n",
    "df = pd.DataFrame(data)\n",
    "grouped = df.groupby('Category').agg({'Value': 'sum'}) \n",
    "print(grouped)"
   ]
  },
  {
   "cell_type": "code",
   "execution_count": 29,
   "id": "9569f598",
   "metadata": {},
   "outputs": [
    {
     "name": "stdout",
     "output_type": "stream",
     "text": [
      "       A      B\n",
      "0  False   True\n",
      "1  False  False\n",
      "2   True  False\n",
      "3  False  False\n"
     ]
    }
   ],
   "source": [
    "data = {\n",
    "    'A': [1, 2, None, 4],\n",
    "    'B': [None, 5, 6, 7]\n",
    "}\n",
    "\n",
    "df = pd.DataFrame(data)\n",
    "missing_values = df.isnull()\n",
    "print(missing_values)"
   ]
  },
  {
   "cell_type": "code",
   "execution_count": 30,
   "id": "03132f25",
   "metadata": {},
   "outputs": [
    {
     "name": "stdout",
     "output_type": "stream",
     "text": [
      "       A      B\n",
      "0   True  False\n",
      "1   True   True\n",
      "2  False   True\n",
      "3   True   True\n"
     ]
    }
   ],
   "source": [
    "data = {\n",
    "    'A': [1, 2, None, 4],\n",
    "    'B': [None, 5, 6, 7]\n",
    "}\n",
    "\n",
    "df = pd.DataFrame(data)\n",
    "missing_values = df.notnull()\n",
    "print(missing_values)"
   ]
  },
  {
   "cell_type": "code",
   "execution_count": 31,
   "id": "c481e1e7",
   "metadata": {
    "scrolled": true
   },
   "outputs": [
    {
     "name": "stdout",
     "output_type": "stream",
     "text": [
      "     A    B\n",
      "1  2.0  5.0\n",
      "3  4.0  7.0\n"
     ]
    }
   ],
   "source": [
    "drop_df = df.dropna()\n",
    "print(drop_df)"
   ]
  },
  {
   "cell_type": "code",
   "execution_count": 32,
   "id": "a471288a",
   "metadata": {},
   "outputs": [
    {
     "name": "stdout",
     "output_type": "stream",
     "text": [
      "     A    B\n",
      "0  1.0  0.0\n",
      "1  2.0  5.0\n",
      "2  0.0  6.0\n",
      "3  4.0  7.0\n"
     ]
    }
   ],
   "source": [
    "filled_df = df.fillna(0)\n",
    "print(filled_df)"
   ]
  },
  {
   "cell_type": "code",
   "execution_count": 36,
   "id": "d017d0e2",
   "metadata": {},
   "outputs": [
    {
     "name": "stdout",
     "output_type": "stream",
     "text": [
      "0    False\n",
      "1    False\n",
      "2    False\n",
      "3     True\n",
      "dtype: bool\n"
     ]
    }
   ],
   "source": [
    "dup_data = {\n",
    "    'Name': ['Alice', 'Bob', 'Charlie','Alice'],\n",
    "    'Age': [25, 30, 28,25],\n",
    "    'Country': ['USA', 'Canada', 'UK','USA']\n",
    "}\n",
    "dff = pd.DataFrame(dup_data)\n",
    "duplicates = dff.duplicated()\n",
    "print(duplicates)"
   ]
  },
  {
   "cell_type": "code",
   "execution_count": 37,
   "id": "af1c91d7",
   "metadata": {},
   "outputs": [
    {
     "name": "stdout",
     "output_type": "stream",
     "text": [
      "      Name  Age Country\n",
      "0    Alice   25     USA\n",
      "1      Bob   30  Canada\n",
      "2  Charlie   28      UK\n"
     ]
    }
   ],
   "source": [
    "unique_rows_df = dff.drop_duplicates()\n",
    "print(unique_rows_df)"
   ]
  },
  {
   "cell_type": "code",
   "execution_count": null,
   "id": "a75c5ba8",
   "metadata": {},
   "outputs": [],
   "source": []
  }
 ],
 "metadata": {
  "kernelspec": {
   "display_name": "Python 3 (ipykernel)",
   "language": "python",
   "name": "python3"
  },
  "language_info": {
   "codemirror_mode": {
    "name": "ipython",
    "version": 3
   },
   "file_extension": ".py",
   "mimetype": "text/x-python",
   "name": "python",
   "nbconvert_exporter": "python",
   "pygments_lexer": "ipython3",
   "version": "3.11.3"
  }
 },
 "nbformat": 4,
 "nbformat_minor": 5
}
