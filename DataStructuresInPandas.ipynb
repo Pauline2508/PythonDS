{
  "nbformat": 4,
  "nbformat_minor": 0,
  "metadata": {
    "colab": {
      "provenance": []
    },
    "kernelspec": {
      "name": "python3",
      "display_name": "Python 3"
    },
    "language_info": {
      "name": "python"
    }
  },
  "cells": [
    {
      "cell_type": "code",
      "execution_count": null,
      "metadata": {
        "colab": {
          "base_uri": "https://localhost:8080/"
        },
        "id": "Y3XZzl1HeZJd",
        "outputId": "40f11e50-5db1-4ea9-fe14-a91f500dd7cb"
      },
      "outputs": [
        {
          "output_type": "stream",
          "name": "stdout",
          "text": [
            "0    1\n",
            "1    2\n",
            "2    3\n",
            "3    4\n",
            "dtype: int64\n"
          ]
        }
      ],
      "source": [
        "import pandas as pd\n",
        "series1 = pd.Series([1,2,3,4])\n",
        "print(series1)"
      ]
    },
    {
      "cell_type": "code",
      "source": [
        "import pandas as pd\n",
        "\n",
        "srs = pd.Series([1,2,3,4,5])\n",
        "print(\"The Series values are:\")\n",
        "print(srs.values)\n",
        "print(\"\\nThe Index values are:\")\n",
        "print(srs.index.values)"
      ],
      "metadata": {
        "colab": {
          "base_uri": "https://localhost:8080/"
        },
        "id": "taWJMVarexbx",
        "outputId": "81b98af2-5811-4f89-a589-98b86d650b57"
      },
      "execution_count": null,
      "outputs": [
        {
          "output_type": "stream",
          "name": "stdout",
          "text": [
            "The Series values are:\n",
            "[1 2 3 4 5]\n",
            "\n",
            "The Index values are:\n",
            "[0 1 2 3 4]\n"
          ]
        }
      ]
    },
    {
      "cell_type": "code",
      "source": [
        "import pandas as pd\n",
        "\n",
        "srs = pd.Series([11.9, 36.0, 16.6, 21.8, 34.2], index = ['China', 'India', 'USA', 'Brazil', 'Pakistan'])\n",
        "srs.name = \"Growth Rate\"\n",
        "srs.index.name = \"Country\"\n",
        "print(\"The Indexed Series values are:\")\n",
        "print(srs)"
      ],
      "metadata": {
        "colab": {
          "base_uri": "https://localhost:8080/"
        },
        "id": "7Loz4tiofCkg",
        "outputId": "883fd895-92c9-45ed-c64b-fecc585280c6"
      },
      "execution_count": null,
      "outputs": [
        {
          "output_type": "stream",
          "name": "stdout",
          "text": [
            "The Indexed Series values are:\n",
            "Country\n",
            "China       11.9\n",
            "India       36.0\n",
            "USA         16.6\n",
            "Brazil      21.8\n",
            "Pakistan    34.2\n",
            "Name: Growth Rate, dtype: float64\n"
          ]
        }
      ]
    },
    {
      "cell_type": "code",
      "source": [
        "import numpy as np\n",
        "import pandas as pd\n",
        "\n",
        "srs = pd.Series(np.arange(0, 6, 1), index = ['ind0', 'ind1', 'ind2', 'ind3', 'ind4', 'ind5'])\n",
        "srs.index.name = \"Index\"\n",
        "print(\"The original Series:\\n\", srs)\n",
        "print(\"\\nSeries element at index ind3:\")\n",
        "print(srs['ind3']) # Fetch element at index named ind3\n",
        "print(\"\\nSeries element at index 3:\")\n",
        "print(srs[3]) # Fetch element at index 3\n",
        "print(\"\\nSeries elements at multiple indexes:\\n\")\n",
        "print(srs[['ind1', 'ind4']]) # Fetch elements at multiple indexes"
      ],
      "metadata": {
        "colab": {
          "base_uri": "https://localhost:8080/"
        },
        "id": "yc6brgcSfYop",
        "outputId": "0bd51451-7dae-42c1-af56-f25962d212aa"
      },
      "execution_count": null,
      "outputs": [
        {
          "output_type": "stream",
          "name": "stdout",
          "text": [
            "The original Series:\n",
            " Index\n",
            "ind0    0\n",
            "ind1    1\n",
            "ind2    2\n",
            "ind3    3\n",
            "ind4    4\n",
            "ind5    5\n",
            "dtype: int64\n",
            "\n",
            "Series element at index ind3:\n",
            "3\n",
            "\n",
            "Series element at index 3:\n",
            "3\n",
            "\n",
            "Series elements at multiple indexes:\n",
            "\n",
            "Index\n",
            "ind1    1\n",
            "ind4    4\n",
            "dtype: int64\n"
          ]
        }
      ]
    },
    {
      "cell_type": "code",
      "source": [
        "import numpy as np\n",
        "\n",
        "import pandas as pd\n",
        "srs = pd.Series(np.arange(0, 6, 1), index = ['ind0', 'ind1', 'ind2', 'ind3', 'ind4', 'ind5'])\n",
        "\n",
        "srs.index.name = \"Index\"\n",
        "\n",
        "print(\"The original Series:\\n\", srs)\n",
        "\n",
        "\n",
        "\n",
        "srs = srs.drop('ind2') # drop index named ind2\n",
        "\n",
        "\n",
        "\n",
        "print(\"The New Series:\\n\", srs)"
      ],
      "metadata": {
        "colab": {
          "base_uri": "https://localhost:8080/"
        },
        "id": "f4L4SJkIuz9e",
        "outputId": "aa762e0f-2415-4aa1-ea70-7719e9ed32f4"
      },
      "execution_count": null,
      "outputs": [
        {
          "output_type": "stream",
          "name": "stdout",
          "text": [
            "The original Series:\n",
            " Index\n",
            "ind0    0\n",
            "ind1    1\n",
            "ind2    2\n",
            "ind3    3\n",
            "ind4    4\n",
            "ind5    5\n",
            "dtype: int64\n",
            "The New Series:\n",
            " Index\n",
            "ind0    0\n",
            "ind1    1\n",
            "ind3    3\n",
            "ind4    4\n",
            "ind5    5\n",
            "dtype: int64\n"
          ]
        }
      ]
    },
    {
      "cell_type": "code",
      "source": [
        "import pandas as pd\n",
        "\n",
        "df = pd.DataFrame({\n",
        "\n",
        "    \"Column1\": [1, 4, 8, 7, 9],\n",
        "\n",
        "    \"Column2\": ['a', 'column', 'with', 'a', 'string'],\n",
        "\n",
        "    \"Column3\": [1.23, 23.5, 45.6, 32.1234, 89.453],\n",
        "\n",
        "    \"Column4\": [True, False, True, False, True]\n",
        "\n",
        "})\n",
        "\n",
        "print(df)"
      ],
      "metadata": {
        "colab": {
          "base_uri": "https://localhost:8080/"
        },
        "id": "9Ve34OQIu_qf",
        "outputId": "f8ab5efb-b4eb-4480-814a-724e54ae3739"
      },
      "execution_count": null,
      "outputs": [
        {
          "output_type": "stream",
          "name": "stdout",
          "text": [
            "   Column1 Column2  Column3  Column4\n",
            "0        1       a   1.2300     True\n",
            "1        4  column  23.5000    False\n",
            "2        8    with  45.6000     True\n",
            "3        7       a  32.1234    False\n",
            "4        9  string  89.4530     True\n"
          ]
        }
      ]
    },
    {
      "cell_type": "code",
      "source": [
        "import pandas as pd\n",
        "\n",
        "data = {\n",
        "\n",
        "    'peppers': [3, 2, 0, 1],\n",
        "\n",
        "    'carrots': [0, 3, 7, 2]\n",
        "\n",
        "}\n",
        "\n",
        "quantity = pd.DataFrame(data)\n",
        "\n",
        "\n",
        "\n",
        "print(data)"
      ],
      "metadata": {
        "colab": {
          "base_uri": "https://localhost:8080/"
        },
        "id": "DD4yDhNgvHYU",
        "outputId": "26c0e18e-3328-4be8-8364-f054c4d6bdd8"
      },
      "execution_count": null,
      "outputs": [
        {
          "output_type": "stream",
          "name": "stdout",
          "text": [
            "{'peppers': [3, 2, 0, 1], 'carrots': [0, 3, 7, 2]}\n"
          ]
        }
      ]
    },
    {
      "cell_type": "code",
      "source": [
        "import pandas as pd\n",
        "\n",
        "df = pd.DataFrame({\n",
        "\n",
        "    \"Column1\": [1, 4, 8, 7, 9],\n",
        "\n",
        "    \"Column2\": ['a', 'column', 'with', 'a', 'string'],\n",
        "\n",
        "    \"Column3\": [1.23, 23.5, 45.6, 32.1234, 89.453],\n",
        "\n",
        "    \"Column4\": [True, False, True, False, True]\n",
        "\n",
        "})\n",
        "\n",
        "df.info()"
      ],
      "metadata": {
        "colab": {
          "base_uri": "https://localhost:8080/"
        },
        "id": "-Q3PoXXgvK1Q",
        "outputId": "37e28708-7af6-492f-a55c-61c96b2a1cf9"
      },
      "execution_count": null,
      "outputs": [
        {
          "output_type": "stream",
          "name": "stdout",
          "text": [
            "<class 'pandas.core.frame.DataFrame'>\n",
            "RangeIndex: 5 entries, 0 to 4\n",
            "Data columns (total 4 columns):\n",
            " #   Column   Non-Null Count  Dtype  \n",
            "---  ------   --------------  -----  \n",
            " 0   Column1  5 non-null      int64  \n",
            " 1   Column2  5 non-null      object \n",
            " 2   Column3  5 non-null      float64\n",
            " 3   Column4  5 non-null      bool   \n",
            "dtypes: bool(1), float64(1), int64(1), object(1)\n",
            "memory usage: 253.0+ bytes\n"
          ]
        }
      ]
    },
    {
      "cell_type": "code",
      "source": [
        "import pandas as pd\n",
        "\n",
        "\n",
        "\n",
        "# Defining a series object\n",
        "\n",
        "srs1 = pd.Series([11.9, 36.0, 16.6, 21.8, 34.2], index = ['China', 'India', 'USA', 'Brazil', 'Pakistan'])\n",
        "\n",
        "\n",
        "\n",
        "# Set Series name\n",
        "\n",
        "srs1.name = \"Growth Rate\"\n",
        "\n",
        "\n",
        "\n",
        "# Set index name\n",
        "\n",
        "srs1.index.name = \"Country\"\n",
        "\n",
        "\n",
        "\n",
        "srs2 = srs1.reindex(['China', 'India', 'Malaysia', 'USA', 'Brazil', 'Pakistan', 'England'])\n",
        "\n",
        "print(\"The series with new indexes is:\\n\",srs2)\n",
        "\n",
        "\n",
        "\n",
        "srs3 = srs1.reindex(['China', 'India', 'Malaysia', 'USA', 'Brazil', 'Pakistan', 'England'], fill_value=0)\n",
        "\n",
        "print(\"\\nThe series with new indexes is:\\n\",srs3)"
      ],
      "metadata": {
        "id": "_KJeW7JQvZiU",
        "outputId": "e44c65fe-491b-4fa1-f1a0-a0e0ac8330da",
        "colab": {
          "base_uri": "https://localhost:8080/"
        }
      },
      "execution_count": null,
      "outputs": [
        {
          "output_type": "stream",
          "name": "stdout",
          "text": [
            "The series with new indexes is:\n",
            " Country\n",
            "China       11.9\n",
            "India       36.0\n",
            "Malaysia     NaN\n",
            "USA         16.6\n",
            "Brazil      21.8\n",
            "Pakistan    34.2\n",
            "England      NaN\n",
            "Name: Growth Rate, dtype: float64\n",
            "\n",
            "The series with new indexes is:\n",
            " Country\n",
            "China       11.9\n",
            "India       36.0\n",
            "Malaysia     0.0\n",
            "USA         16.6\n",
            "Brazil      21.8\n",
            "Pakistan    34.2\n",
            "England      0.0\n",
            "Name: Growth Rate, dtype: float64\n"
          ]
        }
      ]
    }
  ]
}