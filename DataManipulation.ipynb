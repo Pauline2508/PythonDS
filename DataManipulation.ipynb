{
  "nbformat": 4,
  "nbformat_minor": 0,
  "metadata": {
    "colab": {
      "provenance": []
    },
    "kernelspec": {
      "name": "python3",
      "display_name": "Python 3"
    },
    "language_info": {
      "name": "python"
    }
  },
  "cells": [
    {
      "cell_type": "code",
      "execution_count": null,
      "metadata": {
        "colab": {
          "base_uri": "https://localhost:8080/"
        },
        "id": "hLNYlasjv_AC",
        "outputId": "7b69630f-2d15-454d-a8a2-8b132e6b8b65"
      },
      "outputs": [
        {
          "output_type": "stream",
          "name": "stdout",
          "text": [
            "      Name  Age\n",
            "0    Alice   20\n",
            "1      bob   28\n",
            "2  Charlie   25\n",
            "3    David   27\n",
            "4      Eva   28\n"
          ]
        }
      ],
      "source": [
        "import pandas as pd\n",
        "data = {\n",
        "    'Name':['Alice','bob','Charlie','David','Eva'],\n",
        "    'Age':[20,28,25,27,28]\n",
        "}\n",
        "df= pd.DataFrame(data)\n",
        "print(df)"
      ]
    },
    {
      "cell_type": "code",
      "source": [
        "import pandas as pd\n",
        "\n",
        "# Sample DataFrame\n",
        "data = {\n",
        "  'Name': ['Alice', 'Bob', 'Charlie', 'David', 'Eva'],\n",
        "  'Age': [25, 30, 22, 28, 35],\n",
        "  'Gender': ['Female', 'Male', 'Male', 'Male', 'Female']\n",
        "}\n",
        "\n",
        "df = pd.DataFrame(data)\n",
        "\n",
        "# Filter rows where Age is greater than 25\n",
        "filtered_df = df[df['Age'] > 25]\n",
        "print(filtered_df)"
      ],
      "metadata": {
        "colab": {
          "base_uri": "https://localhost:8080/"
        },
        "id": "AIPe31b3wwg8",
        "outputId": "3cac18d5-99e2-4226-9526-99626c579ee8"
      },
      "execution_count": null,
      "outputs": [
        {
          "output_type": "stream",
          "name": "stdout",
          "text": [
            "    Name  Age  Gender\n",
            "1    Bob   30    Male\n",
            "3  David   28    Male\n",
            "4    Eva   35  Female\n"
          ]
        }
      ]
    },
    {
      "cell_type": "code",
      "source": [
        "import pandas as pd\n",
        "\n",
        "# Sample DataFrame\n",
        "data = {\n",
        "  'Name': ['Alice', 'Bob', 'Charlie', 'David', 'Eva'],\n",
        "  'Age': [25, 30, 22, 28, 35],\n",
        "  'Gender': ['Female', 'Male', 'Male', 'Male', 'Female']\n",
        "}\n",
        "\n",
        "df = pd.DataFrame(data)\n",
        "\n",
        "df['City'] = ['New York', 'Los Angeles', 'Chicago', 'Miami', 'Seattle']\n",
        "print(df)"
      ],
      "metadata": {
        "colab": {
          "base_uri": "https://localhost:8080/"
        },
        "id": "-S9Dk5I5xNzv",
        "outputId": "a4193276-15d7-475f-a0c7-049e8b5cba8b"
      },
      "execution_count": null,
      "outputs": [
        {
          "output_type": "stream",
          "name": "stdout",
          "text": [
            "      Name  Age  Gender         City\n",
            "0    Alice   25  Female     New York\n",
            "1      Bob   30    Male  Los Angeles\n",
            "2  Charlie   22    Male      Chicago\n",
            "3    David   28    Male        Miami\n",
            "4      Eva   35  Female      Seattle\n"
          ]
        }
      ]
    },
    {
      "cell_type": "code",
      "source": [
        "import pandas as pd\n",
        "\n",
        "# Sample DataFrame\n",
        "data = {\n",
        "  'Name': ['Alice', 'Bob', 'Charlie', 'David', 'Eva'],\n",
        "  'Age': [25, 30, 22, 28, 35],\n",
        "  'Gender': ['Female', 'Male', 'Male', 'Male', 'Female']\n",
        "}\n",
        "\n",
        "df = pd.DataFrame(data)\n",
        "grouped_df = df.groupby('Gender').agg({'Age': 'mean'})\n",
        "print(grouped_df)"
      ],
      "metadata": {
        "colab": {
          "base_uri": "https://localhost:8080/"
        },
        "id": "hdyaLPZsxnBz",
        "outputId": "1303e8a7-25ae-4a5d-b665-f688717c2e13"
      },
      "execution_count": null,
      "outputs": [
        {
          "output_type": "stream",
          "name": "stdout",
          "text": [
            "              Age\n",
            "Gender           \n",
            "Female  30.000000\n",
            "Male    26.666667\n"
          ]
        }
      ]
    },
    {
      "cell_type": "code",
      "source": [
        "import pandas as pd\n",
        "\n",
        "# Sample DataFrame\n",
        "data = {\n",
        "  'Name': ['Alice', 'Bob', 'Charlie', 'David', 'Eva'],\n",
        "  'Age': [25, 30, 22, 28, 35],\n",
        "  'Gender': ['Female', 'Male', 'Male', 'Male', 'Female']\n",
        "}\n",
        "sorted_df = df.sort_values(by='Age')\n",
        "print(sorted_df)"
      ],
      "metadata": {
        "colab": {
          "base_uri": "https://localhost:8080/"
        },
        "id": "vGYaRXwmx4hD",
        "outputId": "5bfd037b-1095-48b0-8792-1e5037d227c6"
      },
      "execution_count": null,
      "outputs": [
        {
          "output_type": "stream",
          "name": "stdout",
          "text": [
            "      Name  Age  Gender\n",
            "2  Charlie   22    Male\n",
            "0    Alice   25  Female\n",
            "3    David   28    Male\n",
            "1      Bob   30    Male\n",
            "4      Eva   35  Female\n"
          ]
        }
      ]
    },
    {
      "cell_type": "code",
      "source": [
        "import pandas as pd\n",
        "\n",
        "# Sample DataFrame\n",
        "data = {\n",
        "  'Name': ['Alice', 'Bob', 'Charlie', 'David', 'Eva'],\n",
        "  'Age': [25, 30, 22, 28, 35],\n",
        "  'Gender': ['Female', 'Male', 'Male', 'Male', 'Female']\n",
        "}\n",
        "df['Age'] = df['Age'].apply(lambda x: x + 5)\n",
        "print(df)"
      ],
      "metadata": {
        "colab": {
          "base_uri": "https://localhost:8080/"
        },
        "id": "J0zOr4DGyfOh",
        "outputId": "2381ecc4-88e8-4e0a-a8c2-a887f026161b"
      },
      "execution_count": null,
      "outputs": [
        {
          "output_type": "stream",
          "name": "stdout",
          "text": [
            "      Name  Age  Gender\n",
            "0    Alice   30  Female\n",
            "1      Bob   35    Male\n",
            "2  Charlie   27    Male\n",
            "3    David   33    Male\n",
            "4      Eva   40  Female\n"
          ]
        }
      ]
    },
    {
      "cell_type": "code",
      "source": [
        "import pandas as pd\n",
        "\n",
        "# Sample DataFrame\n",
        "data = {\n",
        "  'Name': ['Alice', 'Bob', 'Charlie', 'David', 'Eva'],\n",
        "  'Age': [25, 30, 22, 28, 35],\n",
        "  'Gender': ['Female', 'Male', 'Male', 'Male', 'Female']\n",
        "}\n",
        "pivot_df = df.pivot(index='Name', columns='Gender', values='Age')\n",
        "print(pivot_df)"
      ],
      "metadata": {
        "colab": {
          "base_uri": "https://localhost:8080/"
        },
        "id": "K0zWWu12y6UE",
        "outputId": "36d2fd03-cfc5-4d73-f4ab-f18365f79d39"
      },
      "execution_count": null,
      "outputs": [
        {
          "output_type": "stream",
          "name": "stdout",
          "text": [
            "Gender   Female  Male\n",
            "Name                 \n",
            "Alice      30.0   NaN\n",
            "Bob         NaN  35.0\n",
            "Charlie     NaN  27.0\n",
            "David       NaN  33.0\n",
            "Eva        40.0   NaN\n"
          ]
        }
      ]
    },
    {
      "cell_type": "code",
      "source": [
        "import pandas as pd\n",
        "\n",
        "\n",
        "\n",
        "d = {\n",
        "\n",
        "    'subject_id': ['1', '2', '3', '4', '5'],\n",
        "\n",
        "    'student_name': ['Mark', 'Khalid', 'Deborah', 'Trevon', 'Raven']\n",
        "\n",
        "}\n",
        "\n",
        "df1 = pd.DataFrame(d, columns=['subject_id', 'student_name'])\n",
        "\n",
        "print(df1)"
      ],
      "metadata": {
        "colab": {
          "base_uri": "https://localhost:8080/"
        },
        "id": "Rz9HFrFJ1EF2",
        "outputId": "ae2c0ae4-bb6c-4b6b-f5ca-65df8dd5884d"
      },
      "execution_count": null,
      "outputs": [
        {
          "output_type": "stream",
          "name": "stdout",
          "text": [
            "  subject_id student_name\n",
            "0          1         Mark\n",
            "1          2       Khalid\n",
            "2          3      Deborah\n",
            "3          4       Trevon\n",
            "4          5        Raven\n"
          ]
        }
      ]
    },
    {
      "cell_type": "code",
      "source": [
        "import pandas as pd\n",
        "\n",
        "\n",
        "\n",
        "data = {\n",
        "\n",
        "    'subject_id': ['4', '5', '6', '7', '8'],\n",
        "\n",
        "    'student_name': ['Eric', 'Imani', 'Cece', 'Darius', 'Andre']\n",
        "\n",
        "}\n",
        "\n",
        "df2 = pd.DataFrame(data, columns=['subject_id', 'student_name'])\n",
        "\n",
        "print(df2)\n",
        "\n",
        "pd.merge(df1, df2, on='subject_id')"
      ],
      "metadata": {
        "colab": {
          "base_uri": "https://localhost:8080/",
          "height": 216
        },
        "id": "dg73tMLJ1V_1",
        "outputId": "8ffa6629-9b5a-411f-ae38-eb07e536b4b4"
      },
      "execution_count": null,
      "outputs": [
        {
          "output_type": "stream",
          "name": "stdout",
          "text": [
            "  subject_id student_name\n",
            "0          4         Eric\n",
            "1          5        Imani\n",
            "2          6         Cece\n",
            "3          7       Darius\n",
            "4          8        Andre\n"
          ]
        },
        {
          "output_type": "execute_result",
          "data": {
            "text/plain": [
              "  subject_id student_name_x student_name_y\n",
              "0          4         Trevon           Eric\n",
              "1          5          Raven          Imani"
            ],
            "text/html": [
              "\n",
              "\n",
              "  <div id=\"df-08997a12-7bd6-460f-96fd-826119e38893\">\n",
              "    <div class=\"colab-df-container\">\n",
              "      <div>\n",
              "<style scoped>\n",
              "    .dataframe tbody tr th:only-of-type {\n",
              "        vertical-align: middle;\n",
              "    }\n",
              "\n",
              "    .dataframe tbody tr th {\n",
              "        vertical-align: top;\n",
              "    }\n",
              "\n",
              "    .dataframe thead th {\n",
              "        text-align: right;\n",
              "    }\n",
              "</style>\n",
              "<table border=\"1\" class=\"dataframe\">\n",
              "  <thead>\n",
              "    <tr style=\"text-align: right;\">\n",
              "      <th></th>\n",
              "      <th>subject_id</th>\n",
              "      <th>student_name_x</th>\n",
              "      <th>student_name_y</th>\n",
              "    </tr>\n",
              "  </thead>\n",
              "  <tbody>\n",
              "    <tr>\n",
              "      <th>0</th>\n",
              "      <td>4</td>\n",
              "      <td>Trevon</td>\n",
              "      <td>Eric</td>\n",
              "    </tr>\n",
              "    <tr>\n",
              "      <th>1</th>\n",
              "      <td>5</td>\n",
              "      <td>Raven</td>\n",
              "      <td>Imani</td>\n",
              "    </tr>\n",
              "  </tbody>\n",
              "</table>\n",
              "</div>\n",
              "      <button class=\"colab-df-convert\" onclick=\"convertToInteractive('df-08997a12-7bd6-460f-96fd-826119e38893')\"\n",
              "              title=\"Convert this dataframe to an interactive table.\"\n",
              "              style=\"display:none;\">\n",
              "\n",
              "  <svg xmlns=\"http://www.w3.org/2000/svg\" height=\"24px\"viewBox=\"0 0 24 24\"\n",
              "       width=\"24px\">\n",
              "    <path d=\"M0 0h24v24H0V0z\" fill=\"none\"/>\n",
              "    <path d=\"M18.56 5.44l.94 2.06.94-2.06 2.06-.94-2.06-.94-.94-2.06-.94 2.06-2.06.94zm-11 1L8.5 8.5l.94-2.06 2.06-.94-2.06-.94L8.5 2.5l-.94 2.06-2.06.94zm10 10l.94 2.06.94-2.06 2.06-.94-2.06-.94-.94-2.06-.94 2.06-2.06.94z\"/><path d=\"M17.41 7.96l-1.37-1.37c-.4-.4-.92-.59-1.43-.59-.52 0-1.04.2-1.43.59L10.3 9.45l-7.72 7.72c-.78.78-.78 2.05 0 2.83L4 21.41c.39.39.9.59 1.41.59.51 0 1.02-.2 1.41-.59l7.78-7.78 2.81-2.81c.8-.78.8-2.07 0-2.86zM5.41 20L4 18.59l7.72-7.72 1.47 1.35L5.41 20z\"/>\n",
              "  </svg>\n",
              "      </button>\n",
              "\n",
              "\n",
              "\n",
              "    <div id=\"df-04061d5a-283f-466d-a1bf-12d291cd0fb8\">\n",
              "      <button class=\"colab-df-quickchart\" onclick=\"quickchart('df-04061d5a-283f-466d-a1bf-12d291cd0fb8')\"\n",
              "              title=\"Suggest charts.\"\n",
              "              style=\"display:none;\">\n",
              "\n",
              "<svg xmlns=\"http://www.w3.org/2000/svg\" height=\"24px\"viewBox=\"0 0 24 24\"\n",
              "     width=\"24px\">\n",
              "    <g>\n",
              "        <path d=\"M19 3H5c-1.1 0-2 .9-2 2v14c0 1.1.9 2 2 2h14c1.1 0 2-.9 2-2V5c0-1.1-.9-2-2-2zM9 17H7v-7h2v7zm4 0h-2V7h2v10zm4 0h-2v-4h2v4z\"/>\n",
              "    </g>\n",
              "</svg>\n",
              "      </button>\n",
              "    </div>\n",
              "\n",
              "<style>\n",
              "  .colab-df-quickchart {\n",
              "    background-color: #E8F0FE;\n",
              "    border: none;\n",
              "    border-radius: 50%;\n",
              "    cursor: pointer;\n",
              "    display: none;\n",
              "    fill: #1967D2;\n",
              "    height: 32px;\n",
              "    padding: 0 0 0 0;\n",
              "    width: 32px;\n",
              "  }\n",
              "\n",
              "  .colab-df-quickchart:hover {\n",
              "    background-color: #E2EBFA;\n",
              "    box-shadow: 0px 1px 2px rgba(60, 64, 67, 0.3), 0px 1px 3px 1px rgba(60, 64, 67, 0.15);\n",
              "    fill: #174EA6;\n",
              "  }\n",
              "\n",
              "  [theme=dark] .colab-df-quickchart {\n",
              "    background-color: #3B4455;\n",
              "    fill: #D2E3FC;\n",
              "  }\n",
              "\n",
              "  [theme=dark] .colab-df-quickchart:hover {\n",
              "    background-color: #434B5C;\n",
              "    box-shadow: 0px 1px 3px 1px rgba(0, 0, 0, 0.15);\n",
              "    filter: drop-shadow(0px 1px 2px rgba(0, 0, 0, 0.3));\n",
              "    fill: #FFFFFF;\n",
              "  }\n",
              "</style>\n",
              "\n",
              "    <script>\n",
              "      async function quickchart(key) {\n",
              "        const containerElement = document.querySelector('#' + key);\n",
              "        const charts = await google.colab.kernel.invokeFunction(\n",
              "            'suggestCharts', [key], {});\n",
              "      }\n",
              "    </script>\n",
              "\n",
              "      <script>\n",
              "\n",
              "function displayQuickchartButton(domScope) {\n",
              "  let quickchartButtonEl =\n",
              "    domScope.querySelector('#df-04061d5a-283f-466d-a1bf-12d291cd0fb8 button.colab-df-quickchart');\n",
              "  quickchartButtonEl.style.display =\n",
              "    google.colab.kernel.accessAllowed ? 'block' : 'none';\n",
              "}\n",
              "\n",
              "        displayQuickchartButton(document);\n",
              "      </script>\n",
              "      <style>\n",
              "    .colab-df-container {\n",
              "      display:flex;\n",
              "      flex-wrap:wrap;\n",
              "      gap: 12px;\n",
              "    }\n",
              "\n",
              "    .colab-df-convert {\n",
              "      background-color: #E8F0FE;\n",
              "      border: none;\n",
              "      border-radius: 50%;\n",
              "      cursor: pointer;\n",
              "      display: none;\n",
              "      fill: #1967D2;\n",
              "      height: 32px;\n",
              "      padding: 0 0 0 0;\n",
              "      width: 32px;\n",
              "    }\n",
              "\n",
              "    .colab-df-convert:hover {\n",
              "      background-color: #E2EBFA;\n",
              "      box-shadow: 0px 1px 2px rgba(60, 64, 67, 0.3), 0px 1px 3px 1px rgba(60, 64, 67, 0.15);\n",
              "      fill: #174EA6;\n",
              "    }\n",
              "\n",
              "    [theme=dark] .colab-df-convert {\n",
              "      background-color: #3B4455;\n",
              "      fill: #D2E3FC;\n",
              "    }\n",
              "\n",
              "    [theme=dark] .colab-df-convert:hover {\n",
              "      background-color: #434B5C;\n",
              "      box-shadow: 0px 1px 3px 1px rgba(0, 0, 0, 0.15);\n",
              "      filter: drop-shadow(0px 1px 2px rgba(0, 0, 0, 0.3));\n",
              "      fill: #FFFFFF;\n",
              "    }\n",
              "  </style>\n",
              "\n",
              "      <script>\n",
              "        const buttonEl =\n",
              "          document.querySelector('#df-08997a12-7bd6-460f-96fd-826119e38893 button.colab-df-convert');\n",
              "        buttonEl.style.display =\n",
              "          google.colab.kernel.accessAllowed ? 'block' : 'none';\n",
              "\n",
              "        async function convertToInteractive(key) {\n",
              "          const element = document.querySelector('#df-08997a12-7bd6-460f-96fd-826119e38893');\n",
              "          const dataTable =\n",
              "            await google.colab.kernel.invokeFunction('convertToInteractive',\n",
              "                                                     [key], {});\n",
              "          if (!dataTable) return;\n",
              "\n",
              "          const docLinkHtml = 'Like what you see? Visit the ' +\n",
              "            '<a target=\"_blank\" href=https://colab.research.google.com/notebooks/data_table.ipynb>data table notebook</a>'\n",
              "            + ' to learn more about interactive tables.';\n",
              "          element.innerHTML = '';\n",
              "          dataTable['output_type'] = 'display_data';\n",
              "          await google.colab.output.renderOutput(dataTable, element);\n",
              "          const docLink = document.createElement('div');\n",
              "          docLink.innerHTML = docLinkHtml;\n",
              "          element.appendChild(docLink);\n",
              "        }\n",
              "      </script>\n",
              "    </div>\n",
              "  </div>\n"
            ]
          },
          "metadata": {},
          "execution_count": 12
        }
      ]
    },
    {
      "cell_type": "code",
      "source": [
        "import pandas as pd\n",
        "\n",
        "\n",
        "\n",
        "raw = {\n",
        "\n",
        "    'Name': ['Darell', 'Darell', 'Lilith', 'Lilith', 'Tran', 'Tran', 'Tran',\n",
        "\n",
        "        'Tran', 'John', 'Darell', 'Darell', 'Darell'],\n",
        "\n",
        "    'Position': [2, 1, 1, 4, 2, 4, 3, 1, 3, 2, 4, 3],\n",
        "\n",
        "    'Year': [2009, 2010, 2009, 2010, 2010, 2010, 2011, 2012, 2011, 2013, 2013, 2012],\n",
        "\n",
        "    'Marks':[408, 398, 422, 376, 401, 380, 396, 388, 356, 402, 368, 378]\n",
        "\n",
        "}\n",
        "\n",
        "df = pd.DataFrame(raw)\n",
        "\n",
        "\n",
        "\n",
        "group = df.groupby('Year')\n",
        "\n",
        "print(group.get_group(2013))"
      ],
      "metadata": {
        "colab": {
          "base_uri": "https://localhost:8080/"
        },
        "id": "r0ITMigf1h6U",
        "outputId": "49618a40-703b-4b40-e24f-3bb8b044f430"
      },
      "execution_count": null,
      "outputs": [
        {
          "output_type": "stream",
          "name": "stdout",
          "text": [
            "      Name  Position  Year  Marks\n",
            "9   Darell         2  2013    402\n",
            "10  Darell         4  2013    368\n"
          ]
        }
      ]
    },
    {
      "cell_type": "code",
      "source": [],
      "metadata": {
        "id": "EqINKCVQ1wH2"
      },
      "execution_count": null,
      "outputs": []
    }
  ]
}